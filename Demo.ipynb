{
 "cells": [
  {
   "cell_type": "code",
   "execution_count": 1,
   "metadata": {},
   "outputs": [
    {
     "name": "stdout",
     "output_type": "stream",
     "text": [
      "0    1\n",
      "1    2\n",
      "2    6\n",
      "3    7\n",
      "4    8\n",
      "dtype: int64\n"
     ]
    }
   ],
   "source": [
    "import pandas as pd\n",
    "a=pd.Series([1,2,6,7,8])"
   ]
  },
  {
   "cell_type": "markdown",
   "metadata": {},
   "source": [
    "numpy data"
   ]
  },
  {
   "cell_type": "code",
   "execution_count": 2,
   "metadata": {},
   "outputs": [
    {
     "name": "stdout",
     "output_type": "stream",
     "text": [
      "0    1\n",
      "1    2\n",
      "2    3\n",
      "3    4\n",
      "4    5\n",
      "5    6\n",
      "dtype: int64\n"
     ]
    }
   ],
   "source": [
    "import pandas as pd\n",
    "a=pd.Series([1,2,3,4,5,6])\n",
    "print(a)"
   ]
  },
  {
   "cell_type": "markdown",
   "metadata": {},
   "source": [
    "numpy data"
   ]
  },
  {
   "cell_type": "code",
   "execution_count": 3,
   "metadata": {},
   "outputs": [
    {
     "name": "stdout",
     "output_type": "stream",
     "text": [
      "[1 2 3 4]\n"
     ]
    }
   ],
   "source": [
    "import numpy as np\n",
    "a=np.array([1,2,3,4])\n",
    "print(a)"
   ]
  },
  {
   "cell_type": "code",
   "execution_count": 4,
   "metadata": {},
   "outputs": [
    {
     "name": "stdout",
     "output_type": "stream",
     "text": [
      "Num  0\n",
      "Num  0\n",
      "Num  0\n",
      "Num  0\n",
      "Num  1\n",
      "Num  0\n",
      "Num  1\n",
      "Num  1\n",
      "Num  0\n",
      "Num  1\n",
      "Num  0\n",
      "Num  0\n",
      "Num  0\n",
      "Num  1\n",
      "Num  0\n",
      "success count  1\n",
      "Number of Iteration  3\n",
      "probability Ratio  0.3333333333333333\n"
     ]
    }
   ],
   "source": [
    "import random\n",
    "def test():\n",
    "    \"\"\"\n",
    "    Head=1\n",
    "    tail=0\n",
    "    \n",
    "    \"\"\"\n",
    "    num_of_head=0\n",
    "    for flip in range(5):\n",
    "        a=random.randint(0,1)\n",
    "        num_of_head=num_of_head+a\n",
    "        print(\"Num \",int(a))\n",
    "    return (num_of_head>=3)\n",
    "\n",
    "def excercise(n):\n",
    "    success=0\n",
    "    for t in range(n):\n",
    "        success+=int(test())\n",
    "    print(\"success count \",success)\n",
    "    print(\"Number of Iteration \",n)\n",
    "    print(\"probability Ratio \",success/n)\n",
    "    \n",
    "excercise(3)"
   ]
  }
 ],
 "metadata": {
  "kernelspec": {
   "display_name": "Python 3",
   "language": "python",
   "name": "python3"
  },
  "language_info": {
   "codemirror_mode": {
    "name": "ipython",
    "version": 3
   },
   "file_extension": ".py",
   "mimetype": "text/x-python",
   "name": "python",
   "nbconvert_exporter": "python",
   "pygments_lexer": "ipython3",
   "version": "3.11.8"
  }
 },
 "nbformat": 4,
 "nbformat_minor": 2
}
